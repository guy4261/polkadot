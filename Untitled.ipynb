{
 "cells": [
  {
   "cell_type": "code",
   "execution_count": 83,
   "id": "fc5ef54b",
   "metadata": {},
   "outputs": [],
   "source": [
    "from dataclasses import dataclass\n",
    "from enum import Enum, auto\n",
    "from pathlib import Path\n",
    "from typing import Dict\n",
    "from typing import List\n",
    "from typing import Optional\n",
    "\n",
    "import pydot\n",
    "\n",
    "\n",
    "DEFAULT_BRANCH_NAME: str = \"main\"\n",
    "\n",
    "\n",
    "@dataclass()\n",
    "class PathSpec:\n",
    "    path: str\n",
    "    line_start: int\n",
    "    line_end: Optional[int]\n",
    "\n",
    "\n",
    "ATTR_URL = \"URL\"\n",
    "ATTR_PATHSPEC = \"pathspec\"\n",
    "ATTR_EXPECTED = \"expected\"\n",
    "\n",
    "\n",
    "@dataclass\n",
    "class Node(object):\n",
    "\n",
    "    def __init__(self, node_id: str, **attrs):\n",
    "        self.node_id = node_id\n",
    "        self.__attributes = attrs\n",
    "\n",
    "    def get_url(self) -> Optional[str]:\n",
    "        return self.__attributes.get(ATTR_URL)\n",
    "\n",
    "    def get_pathspec(self) -> Optional[PathSpec]:\n",
    "        return self.__attributes.get(ATTR_PATHSPEC)\n",
    "\n",
    "    def get_expected(self) -> Optional[str]:\n",
    "        return self.__attributes.get(ATTR_EXPECTED)\n",
    "\n",
    "    def set_url(self, url: str):\n",
    "        self.__attributes[ATTR_URL] = url\n",
    "\n",
    "    def set_pathspec(self, pathspec: PathSpec) -> Optional[str]:\n",
    "        self.__attributes[ATTR_PATHSPEC] = pathspec\n",
    "\n",
    "    def set_expected(self, expected: str) -> Optional[str]:\n",
    "        self.__attributes[ATTR_EXPECTED] = expected\n",
    "        \n",
    "    def __repr__(self) -> str:\n",
    "        return f\"Node({repr(self.node_id)})\"\n",
    "    \n",
    "    __str__ = __repr__"
   ]
  },
  {
   "cell_type": "code",
   "execution_count": 114,
   "id": "e7fbd273",
   "metadata": {},
   "outputs": [],
   "source": [
    "def get_all_nodes(target: Optional[str] = None, graph: Optional[pydot.Graph] = None) -> List[Node]:\n",
    "    if target is not None:\n",
    "        if graph is not None:\n",
    "            raise ValueError()\n",
    "        graph = pydot.graph_from_dot_file(target)\n",
    "        assert isinstance(graph, list)\n",
    "        assert len(graph) == 1\n",
    "        graph = graph[0]\n",
    "    elif graph is None:\n",
    "        raise ValueError()\n",
    "    \n",
    "    rv: Dict[str, Node] = dict()\n",
    "    \n",
    "    nodes = graph.get_nodes()\n",
    "    for node in nodes:\n",
    "        node_id = node.get_name()\n",
    "        if node_id.strip(\"'\").strip('\"').strip(\"\\\\\") in {\"n\",\"n\\t\"}:\n",
    "            continue\n",
    "        n = Node(node_id, **node.get_attributes())\n",
    "        rv[node_id] = n\n",
    "    \n",
    "    subgraphs = graph.get_subgraphs()\n",
    "    for sg in subgraphs:\n",
    "        rv.update(get_all_nodes(graph=sg))\n",
    "    \n",
    "    return rv"
   ]
  },
  {
   "cell_type": "code",
   "execution_count": 115,
   "id": "3d931518",
   "metadata": {},
   "outputs": [
    {
     "data": {
      "text/plain": [
       "{'node': Node('node'),\n",
       " 'ideas': Node('ideas'),\n",
       " 'developer': Node('developer'),\n",
       " 'graphviz_diagram': Node('graphviz_diagram'),\n",
       " 'update_diagram_nodes': Node('update_diagram_nodes'),\n",
       " 'nodes': Node('nodes'),\n",
       " 'validate': Node('validate'),\n",
       " 'try_filling': Node('try_filling'),\n",
       " 'project_info': Node('project_info'),\n",
       " 'supported_pathspecs': Node('supported_pathspecs'),\n",
       " 'LocalConfig': Node('LocalConfig'),\n",
       " 'validation_status': Node('validation_status'),\n",
       " 'inside_cluster_2': Node('inside_cluster_2')}"
      ]
     },
     "execution_count": 115,
     "metadata": {},
     "output_type": "execute_result"
    }
   ],
   "source": [
    "target = \"./design.gv\"\n",
    "rv = get_all_nodes(target)\n",
    "rv"
   ]
  },
  {
   "cell_type": "code",
   "execution_count": null,
   "id": "1a03ec28",
   "metadata": {},
   "outputs": [],
   "source": [
    "n = rv.values()"
   ]
  }
 ],
 "metadata": {
  "kernelspec": {
   "display_name": "Python 3 (ipykernel)",
   "language": "python",
   "name": "python3"
  },
  "language_info": {
   "codemirror_mode": {
    "name": "ipython",
    "version": 3
   },
   "file_extension": ".py",
   "mimetype": "text/x-python",
   "name": "python",
   "nbconvert_exporter": "python",
   "pygments_lexer": "ipython3",
   "version": "3.10.6"
  }
 },
 "nbformat": 4,
 "nbformat_minor": 5
}
